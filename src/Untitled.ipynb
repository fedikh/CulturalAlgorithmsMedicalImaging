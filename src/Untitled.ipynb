{
 "cells": [
  {
   "cell_type": "code",
   "execution_count": 4,
   "id": "2b78f0dd-15f1-4e67-830b-6aaea976fb63",
   "metadata": {},
   "outputs": [
    {
     "name": "stdout",
     "output_type": "stream",
     "text": [
      "Added src path to system path!\n"
     ]
    }
   ],
   "source": [
    "import sys\n",
    "import os\n",
    "\n",
    "# Define the path to the src folder\n",
    "src_path = r\"C:\\Users\\eyabe\\PycharmProjects\\CulturalAlgorithmsMdeicalImaging\\src\"\n",
    "\n",
    "# Add src to the system path\n",
    "if src_path not in sys.path:\n",
    "    sys.path.append(src_path)\n",
    "    print(\"Added src path to system path!\")"
   ]
  },
  {
   "cell_type": "code",
   "execution_count": 5,
   "id": "8d740ec1-a8f6-494c-a947-ad3b489d4d26",
   "metadata": {},
   "outputs": [
    {
     "name": "stdout",
     "output_type": "stream",
     "text": [
      "Preprocessing script executed successfully!\n"
     ]
    }
   ],
   "source": [
    "import importlib.util\n",
    "import os\n",
    "# Path to preprocess_and_save.py\n",
    "preprocess_script_path = os.path.join(src_path, \"preprocess_and_save.py\")\n",
    "\n",
    "if os.path.exists(preprocess_script_path):\n",
    "    spec = importlib.util.spec_from_file_location(\"preprocess_and_save\", preprocess_script_path)\n",
    "    preprocess_module = importlib.util.module_from_spec(spec)\n",
    "    spec.loader.exec_module(preprocess_module)\n",
    "    print(\"Preprocessing script executed successfully!\")\n",
    "else:\n",
    "    print(f\"Preprocessing script not found at {preprocess_script_path}\")\n"
   ]
  },
  {
   "cell_type": "code",
   "execution_count": 6,
   "id": "966d51c2-6b4b-47a6-9379-31fcde29a087",
   "metadata": {},
   "outputs": [
    {
     "name": "stdout",
     "output_type": "stream",
     "text": [
      "Preprocessed images file exists: True\n",
      "Preprocessed masks file exists: True\n"
     ]
    }
   ],
   "source": [
    "# Define paths to the saved .npy files\n",
    "image_file = os.path.join(src_path, \"preprocessed_images.npy\")\n",
    "mask_file = os.path.join(src_path, \"preprocessed_masks.npy\")\n",
    "\n",
    "# Check if files exist\n",
    "print(\"Preprocessed images file exists:\", os.path.exists(image_file))\n",
    "print(\"Preprocessed masks file exists:\", os.path.exists(mask_file))\n"
   ]
  },
  {
   "cell_type": "code",
   "execution_count": null,
   "id": "ec640b24-e9da-47a5-9447-cd8c839c8510",
   "metadata": {},
   "outputs": [],
   "source": [
    "import os\n",
    "import numpy as np\n",
    "import cv2\n",
    "import matplotlib.pyplot as plt\n",
    "from sklearn.model_selection import train_test_split\n",
    "from tensorflow.keras.layers import Conv2D, MaxPooling2D, Flatten, Dense, Input, Dropout\n",
    "from tensorflow.keras.optimizers import Adam\n",
    "from keras.callbacks import EarlyStopping\n",
    "from keras.models import Sequential\n",
    "from keras.utils import to_categorical\n",
    "from sklearn.metrics import accuracy_score, precision_score, recall_score, f1_score\n",
    "from evaluation import plot_training_history, plot_confusion_matrix, plot_metrics_comparison\n"
   ]
  },
  {
   "cell_type": "code",
   "execution_count": null,
   "id": "b99145ff-2a91-4b68-a235-2fe27a6ff916",
   "metadata": {},
   "outputs": [],
   "source": [
    "# Paths to preprocessed .npy files\n",
    "image_file = os.path.join(src_path, \"preprocessed_images.npy\")\n",
    "mask_file = os.path.join(src_path, \"preprocessed_masks.npy\")\n",
    "\n",
    "# Load preprocessed data\n",
    "images = np.load(image_file)\n",
    "labels = np.load(mask_file)\n",
    "\n",
    "print(f\"Loaded images shape: {images.shape}\")\n",
    "print(f\"Loaded labels shape: {labels.shape}\")\n"
   ]
  },
  {
   "cell_type": "code",
   "execution_count": null,
   "id": "95ee6a6f-dab6-45eb-bd20-11ad71506eda",
   "metadata": {},
   "outputs": [],
   "source": [
    "X_train, X_temp, y_train, y_temp = train_test_split(images, labels, test_size=0.3, random_state=42)\n",
    "X_val, X_test, y_val, y_test = train_test_split(X_temp, y_temp, test_size=0.33, random_state=42)\n",
    "\n",
    "print(f\"Training data shape: {X_train.shape}\")\n",
    "print(f\"Validation data shape: {X_val.shape}\")\n",
    "print(f\"Test data shape: {X_test.shape}\")\n"
   ]
  },
  {
   "cell_type": "code",
   "execution_count": null,
   "id": "4e18407f-2001-4bb6-99a6-d50487fa90a0",
   "metadata": {},
   "outputs": [],
   "source": [
    "baseline_model = build_model(images.shape[1:], labels.shape[1])\n",
    "history_baseline = baseline_model.fit(\n",
    "    X_train, y_train,\n",
    "    validation_data=(X_val, y_val),\n",
    "    epochs=5,\n",
    "    batch_size=16,\n",
    "    callbacks=[EarlyStopping(monitor='val_loss', patience=2)]\n",
    ")\n"
   ]
  },
  {
   "cell_type": "code",
   "execution_count": null,
   "id": "6ef302b4-bd6c-40b0-a79f-c1228b87bc6d",
   "metadata": {},
   "outputs": [],
   "source": [
    "y_pred_baseline = baseline_model.predict(X_test).argmax(axis=1)\n",
    "y_true = y_test.argmax(axis=1)\n",
    "\n",
    "# Evaluate the model\n",
    "accuracy = accuracy_score(y_true, y_pred_baseline)\n",
    "print(f\"Baseline Model Accuracy: {accuracy:.4f}\")\n",
    "\n",
    "# Display Predictions\n",
    "class_names = [\"COVID\", \"Lung_Opacity\", \"Normal\", \"Viral Pneumonia\"]\n",
    "display_predictions(X_test, y_true, y_pred_baseline, class_names, num_samples=10)\n"
   ]
  },
  {
   "cell_type": "code",
   "execution_count": null,
   "id": "6ded2211-ca01-46f0-bf0d-21903e2ba9bc",
   "metadata": {},
   "outputs": [],
   "source": [
    "best_params = cultural_algorithm_optimization()\n",
    "print(f\"Best Hyperparameters Found: {best_params}\")\n"
   ]
  },
  {
   "cell_type": "code",
   "execution_count": null,
   "id": "c870db94-92f0-4435-9b62-95fd295be283",
   "metadata": {},
   "outputs": [],
   "source": [
    "# Metrics Comparison and Visualization\n",
    "plot_confusion_matrix(y_true, y_pred_baseline, labels=class_names)\n",
    "plot_training_history(history_baseline)\n"
   ]
  },
  {
   "cell_type": "code",
   "execution_count": null,
   "id": "9c9ac60c-acf3-4c26-ae6c-ab246a721758",
   "metadata": {},
   "outputs": [],
   "source": [
    "!pip install tensorflow keras matplotlib scikit-learn\n"
   ]
  },
  {
   "cell_type": "code",
   "execution_count": null,
   "id": "97df5c0d-b8a3-4eb6-a375-d7ddb0fdbdf9",
   "metadata": {},
   "outputs": [],
   "source": []
  }
 ],
 "metadata": {
  "kernelspec": {
   "display_name": "Python 3 (ipykernel)",
   "language": "python",
   "name": "python3"
  },
  "language_info": {
   "codemirror_mode": {
    "name": "ipython",
    "version": 3
   },
   "file_extension": ".py",
   "mimetype": "text/x-python",
   "name": "python",
   "nbconvert_exporter": "python",
   "pygments_lexer": "ipython3",
   "version": "3.12.5"
  }
 },
 "nbformat": 4,
 "nbformat_minor": 5
}
